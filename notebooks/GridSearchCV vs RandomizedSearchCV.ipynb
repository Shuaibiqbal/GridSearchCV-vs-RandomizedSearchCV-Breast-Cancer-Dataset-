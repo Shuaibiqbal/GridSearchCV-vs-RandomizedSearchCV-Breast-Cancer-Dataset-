{
 "cells": [
  {
   "cell_type": "code",
   "execution_count": 26,
   "metadata": {},
   "outputs": [],
   "source": [
    "import pandas as pd \n",
    "from sklearn.model_selection import train_test_split, GridSearchCV, RandomizedSearchCV\n",
    "from sklearn.ensemble import RandomForestClassifier\n",
    "from sklearn.metrics import accuracy_score\n",
    "from sklearn.datasets import load_breast_cancer\n",
    "from scipy.stats import randint\n",
    "import time"
   ]
  },
  {
   "cell_type": "code",
   "execution_count": 27,
   "metadata": {},
   "outputs": [
    {
     "data": {
      "text/plain": [
       "dict_keys(['data', 'target', 'frame', 'target_names', 'DESCR', 'feature_names', 'filename', 'data_module'])"
      ]
     },
     "execution_count": 27,
     "metadata": {},
     "output_type": "execute_result"
    }
   ],
   "source": [
    "data = load_breast_cancer()\n",
    "data.keys()"
   ]
  },
  {
   "cell_type": "code",
   "execution_count": 28,
   "metadata": {},
   "outputs": [],
   "source": [
    "df = pd.DataFrame(data.data, columns = data.feature_names)"
   ]
  },
  {
   "cell_type": "code",
   "execution_count": 29,
   "metadata": {},
   "outputs": [],
   "source": [
    "df[\"Target\"] = data.target"
   ]
  },
  {
   "cell_type": "code",
   "execution_count": 30,
   "metadata": {},
   "outputs": [],
   "source": [
    "X = df.drop(\"Target\", axis=1)\n",
    "y = df[\"Target\"]"
   ]
  },
  {
   "cell_type": "markdown",
   "metadata": {},
   "source": [
    "# train_test_split Parameters:\n",
    "**arrays**\n",
    "    Purpose: Data to be split (e.g., features X and target y).\n",
    "\n",
    "**test_size**\n",
    "    Purpose: Proportion or absolute number of data to use for the test set (e.g., 0.2 for 20%).\n",
    "    Usage: Can be float (proportion) or int (absolute number).\n",
    "\n",
    "**train_size**\n",
    "    Purpose: Proportion or number of data for the training set.\n",
    "    Usage: If None, automatically set as 1 - test_size.\n",
    "\n",
    "**random_state**\n",
    "    Purpose: Controls the randomness of the split to ensure reproducibility.\n",
    "    Usage: Set a fixed number (e.g., 42) for consistent splits.\n",
    "\n",
    "**shuffle**\n",
    "    Purpose: Whether to shuffle the data before splitting.\n",
    "    Usage: Set to False for time-series or ordered data.\n",
    "\n",
    "**stratify**\n",
    "    Purpose: Ensures class distribution is the same in both train and test sets.\n",
    "    Usage: Use for classification tasks to preserve label proportions (stratify=y)."
   ]
  },
  {
   "cell_type": "code",
   "execution_count": 31,
   "metadata": {},
   "outputs": [],
   "source": [
    "X_train, X_test, y_train, y_test = train_test_split(X,y, test_size=0.2, random_state=42)"
   ]
  },
  {
   "cell_type": "code",
   "execution_count": 32,
   "metadata": {},
   "outputs": [],
   "source": [
    "rf = RandomForestClassifier(random_state=42)"
   ]
  },
  {
   "cell_type": "code",
   "execution_count": 37,
   "metadata": {},
   "outputs": [],
   "source": [
    "params_grid = {\n",
    "    'n_estimators' : [50,100,200],\n",
    "    'max_depth' : [5,10,15],\n",
    "    'min_samples_split' : [2,5,10]\n",
    "}"
   ]
  },
  {
   "cell_type": "code",
   "execution_count": 62,
   "metadata": {},
   "outputs": [
    {
     "name": "stdout",
     "output_type": "stream",
     "text": [
      "Fitting 5 folds for each of 27 candidates, totalling 135 fits\n"
     ]
    }
   ],
   "source": [
    "start_grid = time.time()\n",
    "grid_search = GridSearchCV(rf, params_grid, cv = 5, n_jobs = -1, verbose=1)\n",
    "grid_search.fit(X_train, y_train)\n",
    "end_grid = time.time()"
   ]
  },
  {
   "cell_type": "code",
   "execution_count": 63,
   "metadata": {},
   "outputs": [
    {
     "name": "stdout",
     "output_type": "stream",
     "text": [
      "\n",
      "🧪 GridSearchCV Results:\n",
      "Best Params: {'max_depth': 10, 'min_samples_split': 2, 'n_estimators': 200}\n",
      "Test Accuracy: 0.9649122807017544\n",
      "Time taken: 2.55 seconds\n"
     ]
    }
   ],
   "source": [
    "print(\"\\n🧪 GridSearchCV Results:\")\n",
    "print(\"Best Params:\", grid_search.best_params_)\n",
    "print(\"Test Accuracy:\", accuracy_score(y_test, grid_search.predict(X_test)))\n",
    "print(f\"Time taken: {end_grid - start_grid:.2f} seconds\")"
   ]
  },
  {
   "cell_type": "code",
   "execution_count": 64,
   "metadata": {},
   "outputs": [],
   "source": [
    "param_dist = {\n",
    "    'n_estimators': randint(0,200),\n",
    "    'max_depth': (0,15),\n",
    "    'min_samples_split': (0,10)\n",
    "}"
   ]
  },
  {
   "cell_type": "code",
   "execution_count": 65,
   "metadata": {},
   "outputs": [
    {
     "name": "stdout",
     "output_type": "stream",
     "text": [
      "Fitting 5 folds for each of 10 candidates, totalling 50 fits\n"
     ]
    },
    {
     "name": "stderr",
     "output_type": "stream",
     "text": [
      "/home/shuaib/anaconda3/envs/myenv/lib/python3.10/site-packages/sklearn/model_selection/_validation.py:528: FitFailedWarning: \n",
      "35 fits failed out of a total of 50.\n",
      "The score on these train-test partitions for these parameters will be set to nan.\n",
      "If these failures are not expected, you can try to debug them by setting error_score='raise'.\n",
      "\n",
      "Below are more details about the failures:\n",
      "--------------------------------------------------------------------------------\n",
      "25 fits failed with the following error:\n",
      "Traceback (most recent call last):\n",
      "  File \"/home/shuaib/anaconda3/envs/myenv/lib/python3.10/site-packages/sklearn/model_selection/_validation.py\", line 866, in _fit_and_score\n",
      "    estimator.fit(X_train, y_train, **fit_params)\n",
      "  File \"/home/shuaib/anaconda3/envs/myenv/lib/python3.10/site-packages/sklearn/base.py\", line 1382, in wrapper\n",
      "    estimator._validate_params()\n",
      "  File \"/home/shuaib/anaconda3/envs/myenv/lib/python3.10/site-packages/sklearn/base.py\", line 436, in _validate_params\n",
      "    validate_parameter_constraints(\n",
      "  File \"/home/shuaib/anaconda3/envs/myenv/lib/python3.10/site-packages/sklearn/utils/_param_validation.py\", line 98, in validate_parameter_constraints\n",
      "    raise InvalidParameterError(\n",
      "sklearn.utils._param_validation.InvalidParameterError: The 'max_depth' parameter of RandomForestClassifier must be an int in the range [1, inf) or None. Got 0 instead.\n",
      "\n",
      "--------------------------------------------------------------------------------\n",
      "10 fits failed with the following error:\n",
      "Traceback (most recent call last):\n",
      "  File \"/home/shuaib/anaconda3/envs/myenv/lib/python3.10/site-packages/sklearn/model_selection/_validation.py\", line 866, in _fit_and_score\n",
      "    estimator.fit(X_train, y_train, **fit_params)\n",
      "  File \"/home/shuaib/anaconda3/envs/myenv/lib/python3.10/site-packages/sklearn/base.py\", line 1382, in wrapper\n",
      "    estimator._validate_params()\n",
      "  File \"/home/shuaib/anaconda3/envs/myenv/lib/python3.10/site-packages/sklearn/base.py\", line 436, in _validate_params\n",
      "    validate_parameter_constraints(\n",
      "  File \"/home/shuaib/anaconda3/envs/myenv/lib/python3.10/site-packages/sklearn/utils/_param_validation.py\", line 98, in validate_parameter_constraints\n",
      "    raise InvalidParameterError(\n",
      "sklearn.utils._param_validation.InvalidParameterError: The 'min_samples_split' parameter of RandomForestClassifier must be an int in the range [2, inf) or a float in the range (0.0, 1.0]. Got 0 instead.\n",
      "\n",
      "  warnings.warn(some_fits_failed_message, FitFailedWarning)\n",
      "/home/shuaib/anaconda3/envs/myenv/lib/python3.10/site-packages/sklearn/model_selection/_search.py:1107: UserWarning: One or more of the test scores are non-finite: [       nan        nan        nan        nan        nan 0.94945055\n",
      "        nan 0.94945055 0.95164835        nan]\n",
      "  warnings.warn(\n"
     ]
    }
   ],
   "source": [
    "start_random = time.time()\n",
    "# random_search = RandomizedSearchCV(rf, param_dist)\n",
    "random_search = RandomizedSearchCV(rf, param_distributions=param_dist,\n",
    "                                   n_iter=10, cv=5, n_jobs=-1, random_state=42, verbose=1)\n",
    "random_search.fit(X_train, y_train)\n",
    "end_random = time.time()"
   ]
  },
  {
   "cell_type": "code",
   "execution_count": 66,
   "metadata": {},
   "outputs": [
    {
     "name": "stdout",
     "output_type": "stream",
     "text": [
      "\n",
      "🎲 RandomizedSearchCV Results:\n",
      "Best Params: {'max_depth': 15, 'min_samples_split': 10, 'n_estimators': 191}\n",
      "Test Accuracy: 0.9649122807017544\n",
      "Time taken: 0.70 seconds\n"
     ]
    }
   ],
   "source": [
    "print(\"\\n🎲 RandomizedSearchCV Results:\")\n",
    "print(\"Best Params:\", random_search.best_params_)\n",
    "print(\"Test Accuracy:\", accuracy_score(y_test, random_search.predict(X_test)))\n",
    "print(f\"Time taken: {end_random - start_random:.2f} seconds\")"
   ]
  },
  {
   "cell_type": "markdown",
   "metadata": {},
   "source": [
    "## Conclusion (based on the code):\n",
    "**Use GridSearchCV when:**\n",
    "\n",
    "You want high accuracy and reliable tuning.\n",
    "Your hyperparameter space is not too large (like in our code).\n",
    "You want a deterministic and reproducible search.\n",
    "You have enough time/resources for an exhaustive search.\n",
    "\n",
    "✅ In our example, GridSearchCV gave us more control, ensured no combination was missed, and performed just as good or better than randomized search — at the cost of more computation.\n",
    "\n",
    "Let me know if you want a summary table or visualization of the parameter vs. accuracy results from this run!"
   ]
  },
  {
   "cell_type": "code",
   "execution_count": null,
   "metadata": {},
   "outputs": [],
   "source": []
  }
 ],
 "metadata": {
  "kernelspec": {
   "display_name": "myenv",
   "language": "python",
   "name": "python3"
  },
  "language_info": {
   "codemirror_mode": {
    "name": "ipython",
    "version": 3
   },
   "file_extension": ".py",
   "mimetype": "text/x-python",
   "name": "python",
   "nbconvert_exporter": "python",
   "pygments_lexer": "ipython3",
   "version": "3.10.13"
  }
 },
 "nbformat": 4,
 "nbformat_minor": 2
}
